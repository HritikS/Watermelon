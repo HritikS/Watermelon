{
 "cells": [
  {
   "cell_type": "code",
   "execution_count": 1,
   "metadata": {},
   "outputs": [],
   "source": [
    "import pandas as pd\n",
    "import tensorflow as tf\n",
    "from tensorflow import keras\n",
    "from tensorflow.keras import layers\n",
    "import matplotlib.pyplot as plt"
   ]
  },
  {
   "cell_type": "code",
   "execution_count": 2,
   "metadata": {},
   "outputs": [],
   "source": [
    "df = pd.read_csv('Data is boss - Sheet1.csv')"
   ]
  },
  {
   "cell_type": "code",
   "execution_count": 3,
   "metadata": {},
   "outputs": [
    {
     "data": {
      "text/html": [
       "<div>\n",
       "<style scoped>\n",
       "    .dataframe tbody tr th:only-of-type {\n",
       "        vertical-align: middle;\n",
       "    }\n",
       "\n",
       "    .dataframe tbody tr th {\n",
       "        vertical-align: top;\n",
       "    }\n",
       "\n",
       "    .dataframe thead th {\n",
       "        text-align: right;\n",
       "    }\n",
       "</style>\n",
       "<table border=\"1\" class=\"dataframe\">\n",
       "  <thead>\n",
       "    <tr style=\"text-align: right;\">\n",
       "      <th></th>\n",
       "      <th>Area of Distribution (0-60cm2)</th>\n",
       "      <th>No of Particles (25-300)</th>\n",
       "      <th>Depth (0-30mm) Output</th>\n",
       "    </tr>\n",
       "  </thead>\n",
       "  <tbody>\n",
       "    <tr>\n",
       "      <th>0</th>\n",
       "      <td>20</td>\n",
       "      <td>60</td>\n",
       "      <td>5.0</td>\n",
       "    </tr>\n",
       "    <tr>\n",
       "      <th>1</th>\n",
       "      <td>22</td>\n",
       "      <td>58</td>\n",
       "      <td>7.0</td>\n",
       "    </tr>\n",
       "    <tr>\n",
       "      <th>2</th>\n",
       "      <td>24</td>\n",
       "      <td>56</td>\n",
       "      <td>8.0</td>\n",
       "    </tr>\n",
       "    <tr>\n",
       "      <th>3</th>\n",
       "      <td>27</td>\n",
       "      <td>54</td>\n",
       "      <td>9.0</td>\n",
       "    </tr>\n",
       "    <tr>\n",
       "      <th>4</th>\n",
       "      <td>28</td>\n",
       "      <td>56</td>\n",
       "      <td>11.0</td>\n",
       "    </tr>\n",
       "  </tbody>\n",
       "</table>\n",
       "</div>"
      ],
      "text/plain": [
       "   Area of Distribution (0-60cm2)   No of Particles (25-300)  \\\n",
       "0                               20                        60   \n",
       "1                               22                        58   \n",
       "2                               24                        56   \n",
       "3                               27                        54   \n",
       "4                               28                        56   \n",
       "\n",
       "   Depth (0-30mm) Output  \n",
       "0                    5.0  \n",
       "1                    7.0  \n",
       "2                    8.0  \n",
       "3                    9.0  \n",
       "4                   11.0  "
      ]
     },
     "execution_count": 3,
     "metadata": {},
     "output_type": "execute_result"
    }
   ],
   "source": [
    "df.head()"
   ]
  },
  {
   "cell_type": "code",
   "execution_count": 4,
   "metadata": {},
   "outputs": [],
   "source": [
    "train_dataset = df.sample(frac=0.8,random_state=0)\n",
    "test_dataset = df.drop(train_dataset.index)"
   ]
  },
  {
   "cell_type": "code",
   "execution_count": 5,
   "metadata": {},
   "outputs": [
    {
     "data": {
      "text/html": [
       "<div>\n",
       "<style scoped>\n",
       "    .dataframe tbody tr th:only-of-type {\n",
       "        vertical-align: middle;\n",
       "    }\n",
       "\n",
       "    .dataframe tbody tr th {\n",
       "        vertical-align: top;\n",
       "    }\n",
       "\n",
       "    .dataframe thead th {\n",
       "        text-align: right;\n",
       "    }\n",
       "</style>\n",
       "<table border=\"1\" class=\"dataframe\">\n",
       "  <thead>\n",
       "    <tr style=\"text-align: right;\">\n",
       "      <th></th>\n",
       "      <th>count</th>\n",
       "      <th>mean</th>\n",
       "      <th>std</th>\n",
       "      <th>min</th>\n",
       "      <th>25%</th>\n",
       "      <th>50%</th>\n",
       "      <th>75%</th>\n",
       "      <th>max</th>\n",
       "    </tr>\n",
       "  </thead>\n",
       "  <tbody>\n",
       "    <tr>\n",
       "      <th>Area of Distribution (0-60cm2)</th>\n",
       "      <td>18.0</td>\n",
       "      <td>37.166667</td>\n",
       "      <td>7.785734</td>\n",
       "      <td>22.0</td>\n",
       "      <td>33.25</td>\n",
       "      <td>37.0</td>\n",
       "      <td>44.5</td>\n",
       "      <td>48.0</td>\n",
       "    </tr>\n",
       "    <tr>\n",
       "      <th>No of Particles (25-300)</th>\n",
       "      <td>18.0</td>\n",
       "      <td>43.388889</td>\n",
       "      <td>9.947739</td>\n",
       "      <td>25.0</td>\n",
       "      <td>36.00</td>\n",
       "      <td>43.0</td>\n",
       "      <td>51.5</td>\n",
       "      <td>58.0</td>\n",
       "    </tr>\n",
       "  </tbody>\n",
       "</table>\n",
       "</div>"
      ],
      "text/plain": [
       "                                 count       mean       std   min    25%  \\\n",
       "Area of Distribution (0-60cm2)    18.0  37.166667  7.785734  22.0  33.25   \n",
       "No of Particles (25-300)          18.0  43.388889  9.947739  25.0  36.00   \n",
       "\n",
       "                                  50%   75%   max  \n",
       "Area of Distribution (0-60cm2)   37.0  44.5  48.0  \n",
       "No of Particles (25-300)         43.0  51.5  58.0  "
      ]
     },
     "execution_count": 5,
     "metadata": {},
     "output_type": "execute_result"
    }
   ],
   "source": [
    "train_stats = train_dataset.describe()\n",
    "train_stats.pop('Depth (0-30mm) Output')\n",
    "train_stats = train_stats.transpose()\n",
    "train_stats"
   ]
  },
  {
   "cell_type": "code",
   "execution_count": 6,
   "metadata": {},
   "outputs": [],
   "source": [
    "train_labels = train_dataset.pop('Depth (0-30mm) Output')\n",
    "test_labels = test_dataset.pop('Depth (0-30mm) Output')"
   ]
  },
  {
   "cell_type": "code",
   "execution_count": 7,
   "metadata": {},
   "outputs": [],
   "source": [
    "def norm(x):\n",
    "    return (x - train_stats['mean']) / train_stats['std']\n",
    "normed_train_data = norm(train_dataset)\n",
    "normed_test_data = norm(test_dataset)"
   ]
  },
  {
   "cell_type": "code",
   "execution_count": 8,
   "metadata": {},
   "outputs": [],
   "source": [
    "def build_model():\n",
    "    model = keras.Sequential([\n",
    "    layers.Dense(256, activation='relu', input_shape=[len(train_dataset.keys())]),\n",
    "    layers.Dense(128, activation='relu'),\n",
    "    layers.Dense(1)\n",
    "  ])\n",
    "\n",
    "    optimizer = tf.keras.optimizers.RMSprop(0.001)\n",
    "\n",
    "    model.compile(loss='mse',\n",
    "                optimizer=optimizer,\n",
    "                metrics=['mae', 'mse'])\n",
    "    return model"
   ]
  },
  {
   "cell_type": "code",
   "execution_count": 9,
   "metadata": {},
   "outputs": [],
   "source": [
    " model = build_model()"
   ]
  },
  {
   "cell_type": "code",
   "execution_count": 10,
   "metadata": {},
   "outputs": [
    {
     "name": "stdout",
     "output_type": "stream",
     "text": [
      "Model: \"sequential\"\n",
      "_________________________________________________________________\n",
      "Layer (type)                 Output Shape              Param #   \n",
      "=================================================================\n",
      "dense (Dense)                (None, 256)               768       \n",
      "_________________________________________________________________\n",
      "dense_1 (Dense)              (None, 128)               32896     \n",
      "_________________________________________________________________\n",
      "dense_2 (Dense)              (None, 1)                 129       \n",
      "=================================================================\n",
      "Total params: 33,793\n",
      "Trainable params: 33,793\n",
      "Non-trainable params: 0\n",
      "_________________________________________________________________\n"
     ]
    }
   ],
   "source": [
    "model.summary()"
   ]
  },
  {
   "cell_type": "code",
   "execution_count": 11,
   "metadata": {},
   "outputs": [
    {
     "name": "stdout",
     "output_type": "stream",
     "text": [
      "Train on 14 samples, validate on 4 samples\n",
      "Epoch 1/100\n",
      "14/14 [==============================] - 0s 29ms/sample - loss: 210.1785 - mae: 14.1346 - mse: 210.1785 - val_loss: 201.8466 - val_mae: 14.1158 - val_mse: 201.8466\n",
      "Epoch 2/100\n",
      "14/14 [==============================] - 0s 848us/sample - loss: 202.8456 - mae: 13.8629 - mse: 202.8456 - val_loss: 197.2379 - val_mae: 13.9499 - val_mse: 197.2379\n",
      "Epoch 3/100\n",
      "14/14 [==============================] - 0s 781us/sample - loss: 197.4018 - mae: 13.6563 - mse: 197.4018 - val_loss: 193.1271 - val_mae: 13.8007 - val_mse: 193.1271\n",
      "Epoch 4/100\n",
      "14/14 [==============================] - 0s 626us/sample - loss: 192.4958 - mae: 13.4672 - mse: 192.4958 - val_loss: 188.9437 - val_mae: 13.6467 - val_mse: 188.9437\n",
      "Epoch 5/100\n",
      "14/14 [==============================] - 0s 710us/sample - loss: 187.6222 - mae: 13.2758 - mse: 187.6222 - val_loss: 184.3513 - val_mae: 13.4760 - val_mse: 184.3513\n",
      "Epoch 6/100\n",
      "14/14 [==============================] - 0s 805us/sample - loss: 182.2451 - mae: 13.0629 - mse: 182.2451 - val_loss: 179.4166 - val_mae: 13.2895 - val_mse: 179.4166\n",
      "Epoch 7/100\n",
      "14/14 [==============================] - 0s 688us/sample - loss: 176.5712 - mae: 12.8332 - mse: 176.5712 - val_loss: 174.4068 - val_mae: 13.0965 - val_mse: 174.4068\n",
      "Epoch 8/100\n",
      "14/14 [==============================] - 0s 825us/sample - loss: 170.8908 - mae: 12.5968 - mse: 170.8908 - val_loss: 169.3181 - val_mae: 12.8968 - val_mse: 169.3181\n",
      "Epoch 9/100\n",
      "14/14 [==============================] - 0s 915us/sample - loss: 165.2150 - mae: 12.3544 - mse: 165.2150 - val_loss: 164.1834 - val_mae: 12.6922 - val_mse: 164.1834\n",
      "Epoch 10/100\n",
      "14/14 [==============================] - 0s 602us/sample - loss: 159.5065 - mae: 12.1049 - mse: 159.5065 - val_loss: 158.9473 - val_mae: 12.4804 - val_mse: 158.9473\n",
      "Epoch 11/100\n",
      "14/14 [==============================] - 0s 802us/sample - loss: 153.6712 - mae: 11.8457 - mse: 153.6712 - val_loss: 153.6232 - val_mae: 12.2613 - val_mse: 153.6232\n",
      "Epoch 12/100\n",
      "14/14 [==============================] - 0s 676us/sample - loss: 147.7266 - mae: 11.5758 - mse: 147.7266 - val_loss: 148.0860 - val_mae: 12.0277 - val_mse: 148.0860\n",
      "Epoch 13/100\n",
      "14/14 [==============================] - 0s 723us/sample - loss: 141.6873 - mae: 11.2911 - mse: 141.6873 - val_loss: 142.5206 - val_mae: 11.7877 - val_mse: 142.5206\n",
      "Epoch 14/100\n",
      "14/14 [==============================] - 0s 742us/sample - loss: 135.6501 - mae: 10.9972 - mse: 135.6501 - val_loss: 137.0124 - val_mae: 11.5449 - val_mse: 137.0124\n",
      "Epoch 15/100\n",
      "14/14 [==============================] - 0s 591us/sample - loss: 129.6836 - mae: 10.6985 - mse: 129.6836 - val_loss: 131.5513 - val_mae: 11.2987 - val_mse: 131.5513\n",
      "Epoch 16/100\n",
      "14/14 [==============================] - 0s 697us/sample - loss: 123.7819 - mae: 10.3943 - mse: 123.7819 - val_loss: 126.1364 - val_mae: 11.0488 - val_mse: 126.1364\n",
      "Epoch 17/100\n",
      "14/14 [==============================] - 0s 568us/sample - loss: 117.9603 - mae: 10.0846 - mse: 117.9603 - val_loss: 120.7767 - val_mae: 10.7953 - val_mse: 120.7767\n",
      "Epoch 18/100\n",
      "14/14 [==============================] - 0s 492us/sample - loss: 112.2393 - mae: 9.7729 - mse: 112.2393 - val_loss: 115.4883 - val_mae: 10.5386 - val_mse: 115.4883\n",
      "Epoch 19/100\n",
      "14/14 [==============================] - 0s 578us/sample - loss: 106.6320 - mae: 9.5193 - mse: 106.6320 - val_loss: 110.2976 - val_mae: 10.2799 - val_mse: 110.2976\n",
      "Epoch 20/100\n",
      "14/14 [==============================] - 0s 948us/sample - loss: 101.1610 - mae: 9.2613 - mse: 101.1610 - val_loss: 105.2199 - val_mae: 10.0197 - val_mse: 105.2199\n",
      "Epoch 21/100\n",
      "14/14 [==============================] - 0s 645us/sample - loss: 95.8339 - mae: 8.9989 - mse: 95.8339 - val_loss: 100.2791 - val_mae: 9.7593 - val_mse: 100.2791\n",
      "Epoch 22/100\n",
      "14/14 [==============================] - 0s 516us/sample - loss: 90.6669 - mae: 8.7328 - mse: 90.6669 - val_loss: 95.4897 - val_mae: 9.4993 - val_mse: 95.4897\n",
      "Epoch 23/100\n",
      "14/14 [==============================] - 0s 652us/sample - loss: 85.6755 - mae: 8.4902 - mse: 85.6755 - val_loss: 90.8622 - val_mae: 9.2407 - val_mse: 90.8622\n",
      "Epoch 24/100\n",
      "14/14 [==============================] - 0s 852us/sample - loss: 80.8772 - mae: 8.2706 - mse: 80.8772 - val_loss: 86.4293 - val_mae: 8.9852 - val_mse: 86.4293\n",
      "Epoch 25/100\n",
      "14/14 [==============================] - 0s 903us/sample - loss: 76.2866 - mae: 8.0474 - mse: 76.2866 - val_loss: 82.2020 - val_mae: 8.7338 - val_mse: 82.2020\n",
      "Epoch 26/100\n",
      "14/14 [==============================] - 0s 515us/sample - loss: 71.9090 - mae: 7.8208 - mse: 71.9090 - val_loss: 78.1646 - val_mae: 8.4853 - val_mse: 78.1646\n",
      "Epoch 27/100\n",
      "14/14 [==============================] - 0s 806us/sample - loss: 67.7557 - mae: 7.5922 - mse: 67.7557 - val_loss: 74.3692 - val_mae: 8.2443 - val_mse: 74.3692\n",
      "Epoch 28/100\n",
      "14/14 [==============================] - 0s 760us/sample - loss: 63.8264 - mae: 7.3606 - mse: 63.8264 - val_loss: 70.7877 - val_mae: 8.0085 - val_mse: 70.7877\n",
      "Epoch 29/100\n",
      "14/14 [==============================] - 0s 935us/sample - loss: 60.1198 - mae: 7.1271 - mse: 60.1198 - val_loss: 67.4680 - val_mae: 7.7829 - val_mse: 67.4680\n",
      "Epoch 30/100\n",
      "14/14 [==============================] - 0s 868us/sample - loss: 56.6299 - mae: 6.8912 - mse: 56.6299 - val_loss: 64.3615 - val_mae: 7.5635 - val_mse: 64.3615\n",
      "Epoch 31/100\n",
      "14/14 [==============================] - 0s 937us/sample - loss: 53.3603 - mae: 6.6547 - mse: 53.3603 - val_loss: 61.5092 - val_mae: 7.3550 - val_mse: 61.5092\n",
      "Epoch 32/100\n",
      "14/14 [==============================] - 0s 731us/sample - loss: 50.3051 - mae: 6.4175 - mse: 50.3051 - val_loss: 58.8565 - val_mae: 7.1532 - val_mse: 58.8565\n",
      "Epoch 33/100\n",
      "14/14 [==============================] - 0s 668us/sample - loss: 47.4596 - mae: 6.1807 - mse: 47.4596 - val_loss: 56.4342 - val_mae: 6.9616 - val_mse: 56.4342\n",
      "Epoch 34/100\n",
      "14/14 [==============================] - 0s 983us/sample - loss: 44.8170 - mae: 5.9446 - mse: 44.8170 - val_loss: 54.1750 - val_mae: 6.7751 - val_mse: 54.1750\n",
      "Epoch 35/100\n",
      "14/14 [==============================] - 0s 783us/sample - loss: 42.3752 - mae: 5.7102 - mse: 42.3752 - val_loss: 52.1657 - val_mae: 6.6015 - val_mse: 52.1657\n",
      "Epoch 36/100\n",
      "14/14 [==============================] - 0s 843us/sample - loss: 40.1231 - mae: 5.4946 - mse: 40.1231 - val_loss: 50.1972 - val_mae: 6.4253 - val_mse: 50.1972\n",
      "Epoch 37/100\n",
      "14/14 [==============================] - 0s 556us/sample - loss: 38.0708 - mae: 5.3450 - mse: 38.0708 - val_loss: 48.4172 - val_mae: 6.2586 - val_mse: 48.4172\n",
      "Epoch 38/100\n",
      "14/14 [==============================] - 0s 658us/sample - loss: 36.2120 - mae: 5.1976 - mse: 36.2120 - val_loss: 46.7781 - val_mae: 6.0990 - val_mse: 46.7781\n",
      "Epoch 39/100\n",
      "14/14 [==============================] - 0s 729us/sample - loss: 34.5348 - mae: 5.0532 - mse: 34.5348 - val_loss: 45.2607 - val_mae: 5.9454 - val_mse: 45.2607\n",
      "Epoch 40/100\n",
      "14/14 [==============================] - 0s 756us/sample - loss: 33.0298 - mae: 4.9126 - mse: 33.0298 - val_loss: 43.8530 - val_mae: 5.7985 - val_mse: 43.8530\n",
      "Epoch 41/100\n",
      "14/14 [==============================] - 0s 616us/sample - loss: 31.6877 - mae: 4.7773 - mse: 31.6877 - val_loss: 42.5438 - val_mae: 5.6587 - val_mse: 42.5438\n",
      "Epoch 42/100\n",
      "14/14 [==============================] - 0s 638us/sample - loss: 30.4874 - mae: 4.6471 - mse: 30.4874 - val_loss: 41.3194 - val_mae: 5.5261 - val_mse: 41.3194\n",
      "Epoch 43/100\n",
      "14/14 [==============================] - 0s 767us/sample - loss: 29.4111 - mae: 4.5424 - mse: 29.4111 - val_loss: 40.1620 - val_mae: 5.4002 - val_mse: 40.1620\n",
      "Epoch 44/100\n",
      "14/14 [==============================] - 0s 677us/sample - loss: 28.4386 - mae: 4.4645 - mse: 28.4386 - val_loss: 39.0664 - val_mae: 5.2812 - val_mse: 39.0664\n",
      "Epoch 45/100\n",
      "14/14 [==============================] - 0s 803us/sample - loss: 27.5462 - mae: 4.3876 - mse: 27.5462 - val_loss: 38.0030 - val_mae: 5.1675 - val_mse: 38.0030\n",
      "Epoch 46/100\n",
      "14/14 [==============================] - 0s 768us/sample - loss: 26.7196 - mae: 4.3241 - mse: 26.7196 - val_loss: 36.9688 - val_mae: 5.0597 - val_mse: 36.9688\n",
      "Epoch 47/100\n",
      "14/14 [==============================] - 0s 844us/sample - loss: 25.9403 - mae: 4.2768 - mse: 25.9403 - val_loss: 35.9546 - val_mae: 4.9569 - val_mse: 35.9546\n"
     ]
    },
    {
     "name": "stdout",
     "output_type": "stream",
     "text": [
      "Epoch 48/100\n",
      "14/14 [==============================] - 0s 728us/sample - loss: 25.1941 - mae: 4.2265 - mse: 25.1941 - val_loss: 34.9383 - val_mae: 4.8575 - val_mse: 34.9383\n",
      "Epoch 49/100\n",
      "14/14 [==============================] - 0s 685us/sample - loss: 24.4691 - mae: 4.1733 - mse: 24.4691 - val_loss: 33.9329 - val_mae: 4.7625 - val_mse: 33.9329\n",
      "Epoch 50/100\n",
      "14/14 [==============================] - 0s 667us/sample - loss: 23.7548 - mae: 4.1169 - mse: 23.7548 - val_loss: 32.9286 - val_mae: 4.6709 - val_mse: 32.9286\n",
      "Epoch 51/100\n",
      "14/14 [==============================] - 0s 711us/sample - loss: 23.0379 - mae: 4.0567 - mse: 23.0379 - val_loss: 31.9257 - val_mae: 4.5825 - val_mse: 31.9257\n",
      "Epoch 52/100\n",
      "14/14 [==============================] - 0s 589us/sample - loss: 22.3191 - mae: 3.9937 - mse: 22.3191 - val_loss: 30.9274 - val_mae: 4.4968 - val_mse: 30.9274\n",
      "Epoch 53/100\n",
      "14/14 [==============================] - 0s 891us/sample - loss: 21.5886 - mae: 3.9273 - mse: 21.5886 - val_loss: 29.9296 - val_mae: 4.4126 - val_mse: 29.9296\n",
      "Epoch 54/100\n",
      "14/14 [==============================] - 0s 670us/sample - loss: 20.8612 - mae: 3.8591 - mse: 20.8612 - val_loss: 28.9138 - val_mae: 4.3410 - val_mse: 28.9138\n",
      "Epoch 55/100\n",
      "14/14 [==============================] - 0s 793us/sample - loss: 20.1305 - mae: 3.7877 - mse: 20.1305 - val_loss: 27.9074 - val_mae: 4.2773 - val_mse: 27.9074\n",
      "Epoch 56/100\n",
      "14/14 [==============================] - 0s 940us/sample - loss: 19.3960 - mae: 3.7138 - mse: 19.3960 - val_loss: 26.8623 - val_mae: 4.2054 - val_mse: 26.8623\n",
      "Epoch 57/100\n",
      "14/14 [==============================] - 0s 900us/sample - loss: 18.6616 - mae: 3.6378 - mse: 18.6616 - val_loss: 25.8331 - val_mae: 4.1339 - val_mse: 25.8331\n",
      "Epoch 58/100\n",
      "14/14 [==============================] - 0s 722us/sample - loss: 17.9254 - mae: 3.5598 - mse: 17.9254 - val_loss: 24.7789 - val_mae: 4.0565 - val_mse: 24.7789\n",
      "Epoch 59/100\n",
      "14/14 [==============================] - 0s 610us/sample - loss: 17.1953 - mae: 3.4872 - mse: 17.1953 - val_loss: 23.7627 - val_mae: 3.9832 - val_mse: 23.7627\n",
      "Epoch 60/100\n",
      "14/14 [==============================] - 0s 761us/sample - loss: 16.4682 - mae: 3.4158 - mse: 16.4682 - val_loss: 22.7329 - val_mae: 3.9044 - val_mse: 22.7329\n",
      "Epoch 61/100\n",
      "14/14 [==============================] - 0s 629us/sample - loss: 15.7462 - mae: 3.3417 - mse: 15.7462 - val_loss: 21.7143 - val_mae: 3.8220 - val_mse: 21.7143\n",
      "Epoch 62/100\n",
      "14/14 [==============================] - 0s 752us/sample - loss: 15.0189 - mae: 3.2635 - mse: 15.0189 - val_loss: 20.6929 - val_mae: 3.7359 - val_mse: 20.6929\n",
      "Epoch 63/100\n",
      "14/14 [==============================] - 0s 641us/sample - loss: 14.3085 - mae: 3.1853 - mse: 14.3085 - val_loss: 19.6908 - val_mae: 3.6520 - val_mse: 19.6908\n",
      "Epoch 64/100\n",
      "14/14 [==============================] - 0s 621us/sample - loss: 13.6085 - mae: 3.1075 - mse: 13.6085 - val_loss: 18.7161 - val_mae: 3.5692 - val_mse: 18.7161\n",
      "Epoch 65/100\n",
      "14/14 [==============================] - 0s 642us/sample - loss: 12.9226 - mae: 3.0292 - mse: 12.9226 - val_loss: 17.7520 - val_mae: 3.4836 - val_mse: 17.7520\n",
      "Epoch 66/100\n",
      "14/14 [==============================] - 0s 853us/sample - loss: 12.2485 - mae: 2.9488 - mse: 12.2485 - val_loss: 16.7958 - val_mae: 3.3948 - val_mse: 16.7958\n",
      "Epoch 67/100\n",
      "14/14 [==============================] - 0s 515us/sample - loss: 11.5778 - mae: 2.8661 - mse: 11.5778 - val_loss: 15.8811 - val_mae: 3.3087 - val_mse: 15.8811\n",
      "Epoch 68/100\n",
      "14/14 [==============================] - 0s 703us/sample - loss: 10.9286 - mae: 2.7840 - mse: 10.9286 - val_loss: 14.9742 - val_mae: 3.2193 - val_mse: 14.9742\n",
      "Epoch 69/100\n",
      "14/14 [==============================] - 0s 582us/sample - loss: 10.2965 - mae: 2.7000 - mse: 10.2965 - val_loss: 14.0974 - val_mae: 3.1299 - val_mse: 14.0974\n",
      "Epoch 70/100\n",
      "14/14 [==============================] - 0s 653us/sample - loss: 9.6850 - mae: 2.6153 - mse: 9.6850 - val_loss: 13.2645 - val_mae: 3.0432 - val_mse: 13.2645\n",
      "Epoch 71/100\n",
      "14/14 [==============================] - 0s 611us/sample - loss: 9.0958 - mae: 2.5314 - mse: 9.0958 - val_loss: 12.4713 - val_mae: 2.9592 - val_mse: 12.4713\n",
      "Epoch 72/100\n",
      "14/14 [==============================] - 0s 580us/sample - loss: 8.5247 - mae: 2.4471 - mse: 8.5247 - val_loss: 11.7006 - val_mae: 2.8750 - val_mse: 11.7006\n",
      "Epoch 73/100\n",
      "14/14 [==============================] - 0s 716us/sample - loss: 7.9713 - mae: 2.3620 - mse: 7.9713 - val_loss: 10.9630 - val_mae: 2.7913 - val_mse: 10.9630\n",
      "Epoch 74/100\n",
      "14/14 [==============================] - 0s 499us/sample - loss: 7.4430 - mae: 2.2773 - mse: 7.4430 - val_loss: 10.2528 - val_mae: 2.7056 - val_mse: 10.2528\n",
      "Epoch 75/100\n",
      "14/14 [==============================] - 0s 789us/sample - loss: 6.9332 - mae: 2.1911 - mse: 6.9332 - val_loss: 9.5613 - val_mae: 2.6208 - val_mse: 9.5613\n",
      "Epoch 76/100\n",
      "14/14 [==============================] - 0s 624us/sample - loss: 6.4449 - mae: 2.1065 - mse: 6.4449 - val_loss: 8.8966 - val_mae: 2.5328 - val_mse: 8.8966\n",
      "Epoch 77/100\n",
      "14/14 [==============================] - 0s 660us/sample - loss: 5.9817 - mae: 2.0209 - mse: 5.9817 - val_loss: 8.2928 - val_mae: 2.4545 - val_mse: 8.2928\n",
      "Epoch 78/100\n",
      "14/14 [==============================] - 0s 673us/sample - loss: 5.5471 - mae: 1.9395 - mse: 5.5471 - val_loss: 7.6958 - val_mae: 2.3692 - val_mse: 7.6958\n",
      "Epoch 79/100\n",
      "14/14 [==============================] - 0s 687us/sample - loss: 5.1358 - mae: 1.8585 - mse: 5.1358 - val_loss: 7.1500 - val_mae: 2.2908 - val_mse: 7.1500\n",
      "Epoch 80/100\n",
      "14/14 [==============================] - 0s 750us/sample - loss: 4.7488 - mae: 1.7886 - mse: 4.7488 - val_loss: 6.6477 - val_mae: 2.2169 - val_mse: 6.6477\n",
      "Epoch 81/100\n",
      "14/14 [==============================] - 0s 752us/sample - loss: 4.3886 - mae: 1.7197 - mse: 4.3886 - val_loss: 6.1400 - val_mae: 2.1343 - val_mse: 6.1400\n",
      "Epoch 82/100\n",
      "14/14 [==============================] - 0s 624us/sample - loss: 4.0430 - mae: 1.6477 - mse: 4.0430 - val_loss: 5.7048 - val_mae: 2.0665 - val_mse: 5.7048\n",
      "Epoch 83/100\n",
      "14/14 [==============================] - 0s 743us/sample - loss: 3.7229 - mae: 1.5795 - mse: 3.7229 - val_loss: 5.2594 - val_mae: 1.9919 - val_mse: 5.2594\n",
      "Epoch 84/100\n",
      "14/14 [==============================] - 0s 796us/sample - loss: 3.4234 - mae: 1.5121 - mse: 3.4234 - val_loss: 4.8624 - val_mae: 1.9219 - val_mse: 4.8624\n",
      "Epoch 85/100\n",
      "14/14 [==============================] - 0s 705us/sample - loss: 3.1487 - mae: 1.4448 - mse: 3.1487 - val_loss: 4.5144 - val_mae: 1.8623 - val_mse: 4.5144\n",
      "Epoch 86/100\n",
      "14/14 [==============================] - 0s 746us/sample - loss: 2.8961 - mae: 1.3829 - mse: 2.8961 - val_loss: 4.1503 - val_mae: 1.7892 - val_mse: 4.1503\n",
      "Epoch 87/100\n",
      "14/14 [==============================] - 0s 707us/sample - loss: 2.6643 - mae: 1.3168 - mse: 2.6643 - val_loss: 3.8473 - val_mae: 1.7318 - val_mse: 3.8473\n",
      "Epoch 88/100\n",
      "14/14 [==============================] - 0s 591us/sample - loss: 2.4392 - mae: 1.2517 - mse: 2.4392 - val_loss: 3.5272 - val_mae: 1.6647 - val_mse: 3.5272\n",
      "Epoch 89/100\n",
      "14/14 [==============================] - 0s 694us/sample - loss: 2.2359 - mae: 1.1894 - mse: 2.2359 - val_loss: 3.2372 - val_mae: 1.6002 - val_mse: 3.2372\n",
      "Epoch 90/100\n",
      "14/14 [==============================] - 0s 692us/sample - loss: 2.0464 - mae: 1.1258 - mse: 2.0464 - val_loss: 2.9517 - val_mae: 1.5328 - val_mse: 2.9517\n",
      "Epoch 91/100\n",
      "14/14 [==============================] - 0s 647us/sample - loss: 1.8791 - mae: 1.0661 - mse: 1.8791 - val_loss: 2.7280 - val_mae: 1.4813 - val_mse: 2.7280\n",
      "Epoch 92/100\n",
      "14/14 [==============================] - 0s 724us/sample - loss: 1.7241 - mae: 1.0122 - mse: 1.7241 - val_loss: 2.4872 - val_mae: 1.4197 - val_mse: 2.4872\n",
      "Epoch 93/100\n",
      "14/14 [==============================] - 0s 705us/sample - loss: 1.5845 - mae: 0.9663 - mse: 1.5845 - val_loss: 2.2707 - val_mae: 1.3631 - val_mse: 2.2707\n",
      "Epoch 94/100\n",
      "14/14 [==============================] - 0s 647us/sample - loss: 1.4579 - mae: 0.9257 - mse: 1.4579 - val_loss: 2.0413 - val_mae: 1.2937 - val_mse: 2.0413\n",
      "Epoch 95/100\n",
      "14/14 [==============================] - 0s 806us/sample - loss: 1.3462 - mae: 0.8878 - mse: 1.3462 - val_loss: 1.9178 - val_mae: 1.2657 - val_mse: 1.9178\n",
      "Epoch 96/100\n",
      "14/14 [==============================] - 0s 553us/sample - loss: 1.2463 - mae: 0.8494 - mse: 1.2463 - val_loss: 1.6948 - val_mae: 1.1868 - val_mse: 1.6948\n"
     ]
    },
    {
     "name": "stdout",
     "output_type": "stream",
     "text": [
      "Epoch 97/100\n",
      "14/14 [==============================] - 0s 626us/sample - loss: 1.1580 - mae: 0.8268 - mse: 1.1580 - val_loss: 1.6274 - val_mae: 1.1780 - val_mse: 1.6274\n",
      "Epoch 98/100\n",
      "14/14 [==============================] - 0s 774us/sample - loss: 1.0813 - mae: 0.7929 - mse: 1.0813 - val_loss: 1.3534 - val_mae: 1.0575 - val_mse: 1.3534\n",
      "Epoch 99/100\n",
      "14/14 [==============================] - 0s 771us/sample - loss: 1.0156 - mae: 0.7892 - mse: 1.0156 - val_loss: 1.4914 - val_mae: 1.1520 - val_mse: 1.4914\n",
      "Epoch 100/100\n",
      "14/14 [==============================] - 0s 751us/sample - loss: 0.9644 - mae: 0.7472 - mse: 0.9644 - val_loss: 0.9782 - val_mae: 0.8660 - val_mse: 0.9782\n"
     ]
    }
   ],
   "source": [
    "EPOCHS = 100\n",
    "early_stop = keras.callbacks.EarlyStopping(monitor='val_loss', patience=10)\n",
    "history = model.fit(\n",
    "  normed_train_data, train_labels,\n",
    "  epochs=EPOCHS, validation_split = 0.2, verbose=1, callbacks=[early_stop])"
   ]
  },
  {
   "cell_type": "code",
   "execution_count": 12,
   "metadata": {},
   "outputs": [
    {
     "data": {
      "text/html": [
       "<div>\n",
       "<style scoped>\n",
       "    .dataframe tbody tr th:only-of-type {\n",
       "        vertical-align: middle;\n",
       "    }\n",
       "\n",
       "    .dataframe tbody tr th {\n",
       "        vertical-align: top;\n",
       "    }\n",
       "\n",
       "    .dataframe thead th {\n",
       "        text-align: right;\n",
       "    }\n",
       "</style>\n",
       "<table border=\"1\" class=\"dataframe\">\n",
       "  <thead>\n",
       "    <tr style=\"text-align: right;\">\n",
       "      <th></th>\n",
       "      <th>loss</th>\n",
       "      <th>mae</th>\n",
       "      <th>mse</th>\n",
       "      <th>val_loss</th>\n",
       "      <th>val_mae</th>\n",
       "      <th>val_mse</th>\n",
       "      <th>epoch</th>\n",
       "    </tr>\n",
       "  </thead>\n",
       "  <tbody>\n",
       "    <tr>\n",
       "      <th>0</th>\n",
       "      <td>210.178452</td>\n",
       "      <td>14.134612</td>\n",
       "      <td>210.178452</td>\n",
       "      <td>201.846634</td>\n",
       "      <td>14.115799</td>\n",
       "      <td>201.846634</td>\n",
       "      <td>0</td>\n",
       "    </tr>\n",
       "    <tr>\n",
       "      <th>1</th>\n",
       "      <td>202.845566</td>\n",
       "      <td>13.862920</td>\n",
       "      <td>202.845566</td>\n",
       "      <td>197.237854</td>\n",
       "      <td>13.949948</td>\n",
       "      <td>197.237854</td>\n",
       "      <td>1</td>\n",
       "    </tr>\n",
       "    <tr>\n",
       "      <th>2</th>\n",
       "      <td>197.401825</td>\n",
       "      <td>13.656321</td>\n",
       "      <td>197.401825</td>\n",
       "      <td>193.127106</td>\n",
       "      <td>13.800733</td>\n",
       "      <td>193.127106</td>\n",
       "      <td>2</td>\n",
       "    </tr>\n",
       "    <tr>\n",
       "      <th>3</th>\n",
       "      <td>192.495819</td>\n",
       "      <td>13.467162</td>\n",
       "      <td>192.495819</td>\n",
       "      <td>188.943710</td>\n",
       "      <td>13.646743</td>\n",
       "      <td>188.943710</td>\n",
       "      <td>3</td>\n",
       "    </tr>\n",
       "    <tr>\n",
       "      <th>4</th>\n",
       "      <td>187.622238</td>\n",
       "      <td>13.275794</td>\n",
       "      <td>187.622238</td>\n",
       "      <td>184.351288</td>\n",
       "      <td>13.476035</td>\n",
       "      <td>184.351288</td>\n",
       "      <td>4</td>\n",
       "    </tr>\n",
       "    <tr>\n",
       "      <th>...</th>\n",
       "      <td>...</td>\n",
       "      <td>...</td>\n",
       "      <td>...</td>\n",
       "      <td>...</td>\n",
       "      <td>...</td>\n",
       "      <td>...</td>\n",
       "      <td>...</td>\n",
       "    </tr>\n",
       "    <tr>\n",
       "      <th>95</th>\n",
       "      <td>1.246341</td>\n",
       "      <td>0.849353</td>\n",
       "      <td>1.246341</td>\n",
       "      <td>1.694792</td>\n",
       "      <td>1.186825</td>\n",
       "      <td>1.694792</td>\n",
       "      <td>95</td>\n",
       "    </tr>\n",
       "    <tr>\n",
       "      <th>96</th>\n",
       "      <td>1.157977</td>\n",
       "      <td>0.826772</td>\n",
       "      <td>1.157977</td>\n",
       "      <td>1.627418</td>\n",
       "      <td>1.178017</td>\n",
       "      <td>1.627418</td>\n",
       "      <td>96</td>\n",
       "    </tr>\n",
       "    <tr>\n",
       "      <th>97</th>\n",
       "      <td>1.081308</td>\n",
       "      <td>0.792930</td>\n",
       "      <td>1.081308</td>\n",
       "      <td>1.353357</td>\n",
       "      <td>1.057525</td>\n",
       "      <td>1.353357</td>\n",
       "      <td>97</td>\n",
       "    </tr>\n",
       "    <tr>\n",
       "      <th>98</th>\n",
       "      <td>1.015629</td>\n",
       "      <td>0.789221</td>\n",
       "      <td>1.015629</td>\n",
       "      <td>1.491402</td>\n",
       "      <td>1.152009</td>\n",
       "      <td>1.491402</td>\n",
       "      <td>98</td>\n",
       "    </tr>\n",
       "    <tr>\n",
       "      <th>99</th>\n",
       "      <td>0.964378</td>\n",
       "      <td>0.747229</td>\n",
       "      <td>0.964378</td>\n",
       "      <td>0.978215</td>\n",
       "      <td>0.866003</td>\n",
       "      <td>0.978215</td>\n",
       "      <td>99</td>\n",
       "    </tr>\n",
       "  </tbody>\n",
       "</table>\n",
       "<p>100 rows × 7 columns</p>\n",
       "</div>"
      ],
      "text/plain": [
       "          loss        mae         mse    val_loss    val_mae     val_mse  \\\n",
       "0   210.178452  14.134612  210.178452  201.846634  14.115799  201.846634   \n",
       "1   202.845566  13.862920  202.845566  197.237854  13.949948  197.237854   \n",
       "2   197.401825  13.656321  197.401825  193.127106  13.800733  193.127106   \n",
       "3   192.495819  13.467162  192.495819  188.943710  13.646743  188.943710   \n",
       "4   187.622238  13.275794  187.622238  184.351288  13.476035  184.351288   \n",
       "..         ...        ...         ...         ...        ...         ...   \n",
       "95    1.246341   0.849353    1.246341    1.694792   1.186825    1.694792   \n",
       "96    1.157977   0.826772    1.157977    1.627418   1.178017    1.627418   \n",
       "97    1.081308   0.792930    1.081308    1.353357   1.057525    1.353357   \n",
       "98    1.015629   0.789221    1.015629    1.491402   1.152009    1.491402   \n",
       "99    0.964378   0.747229    0.964378    0.978215   0.866003    0.978215   \n",
       "\n",
       "    epoch  \n",
       "0       0  \n",
       "1       1  \n",
       "2       2  \n",
       "3       3  \n",
       "4       4  \n",
       "..    ...  \n",
       "95     95  \n",
       "96     96  \n",
       "97     97  \n",
       "98     98  \n",
       "99     99  \n",
       "\n",
       "[100 rows x 7 columns]"
      ]
     },
     "execution_count": 12,
     "metadata": {},
     "output_type": "execute_result"
    }
   ],
   "source": [
    "hist = pd.DataFrame(history.history)\n",
    "hist['epoch'] = history.epoch\n",
    "hist.head(100)"
   ]
  },
  {
   "cell_type": "code",
   "execution_count": 13,
   "metadata": {},
   "outputs": [],
   "source": [
    "test_predictions = model.predict(normed_test_data).flatten()"
   ]
  },
  {
   "cell_type": "code",
   "execution_count": 14,
   "metadata": {},
   "outputs": [
    {
     "data": {
      "text/plain": [
       "array([ 8.573479,  9.713955, 14.153639, 14.686416, 17.746964],\n",
       "      dtype=float32)"
      ]
     },
     "execution_count": 14,
     "metadata": {},
     "output_type": "execute_result"
    }
   ],
   "source": [
    "test_predictions"
   ]
  },
  {
   "cell_type": "code",
   "execution_count": 15,
   "metadata": {},
   "outputs": [
    {
     "data": {
      "text/plain": [
       "0      5.00\n",
       "3      9.00\n",
       "12    14.76\n",
       "15    15.23\n",
       "19    17.50\n",
       "Name: Depth (0-30mm) Output, dtype: float64"
      ]
     },
     "execution_count": 15,
     "metadata": {},
     "output_type": "execute_result"
    }
   ],
   "source": [
    "test_labels"
   ]
  },
  {
   "cell_type": "code",
   "execution_count": 16,
   "metadata": {},
   "outputs": [],
   "source": [
    "model.save('weights.h5')"
   ]
  },
  {
   "cell_type": "code",
   "execution_count": 23,
   "metadata": {},
   "outputs": [
    {
     "data": {
      "text/html": [
       "<div>\n",
       "<style scoped>\n",
       "    .dataframe tbody tr th:only-of-type {\n",
       "        vertical-align: middle;\n",
       "    }\n",
       "\n",
       "    .dataframe tbody tr th {\n",
       "        vertical-align: top;\n",
       "    }\n",
       "\n",
       "    .dataframe thead th {\n",
       "        text-align: right;\n",
       "    }\n",
       "</style>\n",
       "<table border=\"1\" class=\"dataframe\">\n",
       "  <thead>\n",
       "    <tr style=\"text-align: right;\">\n",
       "      <th></th>\n",
       "      <th>Area of Distribution (0-60cm2)</th>\n",
       "      <th>No of Particles (25-300)</th>\n",
       "    </tr>\n",
       "  </thead>\n",
       "  <tbody>\n",
       "    <tr>\n",
       "      <th>0</th>\n",
       "      <td>-2.204888</td>\n",
       "      <td>1.669838</td>\n",
       "    </tr>\n",
       "    <tr>\n",
       "      <th>3</th>\n",
       "      <td>-1.305807</td>\n",
       "      <td>1.066686</td>\n",
       "    </tr>\n",
       "    <tr>\n",
       "      <th>12</th>\n",
       "      <td>0.235473</td>\n",
       "      <td>-0.340669</td>\n",
       "    </tr>\n",
       "    <tr>\n",
       "      <th>15</th>\n",
       "      <td>0.492354</td>\n",
       "      <td>-0.642245</td>\n",
       "    </tr>\n",
       "    <tr>\n",
       "      <th>19</th>\n",
       "      <td>1.262994</td>\n",
       "      <td>-1.144872</td>\n",
       "    </tr>\n",
       "  </tbody>\n",
       "</table>\n",
       "</div>"
      ],
      "text/plain": [
       "    Area of Distribution (0-60cm2)   No of Particles (25-300)\n",
       "0                         -2.204888                  1.669838\n",
       "3                         -1.305807                  1.066686\n",
       "12                         0.235473                 -0.340669\n",
       "15                         0.492354                 -0.642245\n",
       "19                         1.262994                 -1.144872"
      ]
     },
     "execution_count": 23,
     "metadata": {},
     "output_type": "execute_result"
    }
   ],
   "source": [
    "normed_test_data"
   ]
  },
  {
   "cell_type": "code",
   "execution_count": 39,
   "metadata": {},
   "outputs": [
    {
     "data": {
      "text/plain": [
       "Area of Distribution (0-60cm2)     37.166667\n",
       "No of Particles (25-300)           43.388889\n",
       "Name: mean, dtype: float64"
      ]
     },
     "execution_count": 39,
     "metadata": {},
     "output_type": "execute_result"
    }
   ],
   "source": [
    "train_stats['mean']"
   ]
  },
  {
   "cell_type": "code",
   "execution_count": 40,
   "metadata": {},
   "outputs": [
    {
     "data": {
      "text/plain": [
       "Area of Distribution (0-60cm2)     7.785734\n",
       "No of Particles (25-300)           9.947739\n",
       "Name: std, dtype: float64"
      ]
     },
     "execution_count": 40,
     "metadata": {},
     "output_type": "execute_result"
    }
   ],
   "source": [
    "train_stats['std']"
   ]
  },
  {
   "cell_type": "code",
   "execution_count": 41,
   "metadata": {},
   "outputs": [
    {
     "data": {
      "text/html": [
       "<div>\n",
       "<style scoped>\n",
       "    .dataframe tbody tr th:only-of-type {\n",
       "        vertical-align: middle;\n",
       "    }\n",
       "\n",
       "    .dataframe tbody tr th {\n",
       "        vertical-align: top;\n",
       "    }\n",
       "\n",
       "    .dataframe thead th {\n",
       "        text-align: right;\n",
       "    }\n",
       "</style>\n",
       "<table border=\"1\" class=\"dataframe\">\n",
       "  <thead>\n",
       "    <tr style=\"text-align: right;\">\n",
       "      <th></th>\n",
       "      <th>0</th>\n",
       "      <th>1</th>\n",
       "      <th>Area of Distribution (0-60cm2)</th>\n",
       "      <th>No of Particles (25-300)</th>\n",
       "    </tr>\n",
       "  </thead>\n",
       "  <tbody>\n",
       "    <tr>\n",
       "      <th>0</th>\n",
       "      <td>NaN</td>\n",
       "      <td>NaN</td>\n",
       "      <td>NaN</td>\n",
       "      <td>NaN</td>\n",
       "    </tr>\n",
       "  </tbody>\n",
       "</table>\n",
       "</div>"
      ],
      "text/plain": [
       "    0   1  Area of Distribution (0-60cm2)   No of Particles (25-300)\n",
       "0 NaN NaN                              NaN                       NaN"
      ]
     },
     "execution_count": 41,
     "metadata": {},
     "output_type": "execute_result"
    }
   ],
   "source": [
    "(pd.DataFrame([[20, 60]]) - train_stats['mean']) / train_stats['std']"
   ]
  },
  {
   "cell_type": "code",
   "execution_count": 48,
   "metadata": {},
   "outputs": [
    {
     "data": {
      "text/html": [
       "<div>\n",
       "<style scoped>\n",
       "    .dataframe tbody tr th:only-of-type {\n",
       "        vertical-align: middle;\n",
       "    }\n",
       "\n",
       "    .dataframe tbody tr th {\n",
       "        vertical-align: top;\n",
       "    }\n",
       "\n",
       "    .dataframe thead th {\n",
       "        text-align: right;\n",
       "    }\n",
       "</style>\n",
       "<table border=\"1\" class=\"dataframe\">\n",
       "  <thead>\n",
       "    <tr style=\"text-align: right;\">\n",
       "      <th></th>\n",
       "      <th>Area of Distribution (0-60cm2)</th>\n",
       "      <th>No of Particles (25-300)</th>\n",
       "    </tr>\n",
       "  </thead>\n",
       "  <tbody>\n",
       "    <tr>\n",
       "      <th>0</th>\n",
       "      <td>-2.204888</td>\n",
       "      <td>1.669838</td>\n",
       "    </tr>\n",
       "  </tbody>\n",
       "</table>\n",
       "</div>"
      ],
      "text/plain": [
       "   Area of Distribution (0-60cm2)   No of Particles (25-300)\n",
       "0                        -2.204888                  1.669838"
      ]
     },
     "execution_count": 48,
     "metadata": {},
     "output_type": "execute_result"
    }
   ],
   "source": [
    "(pd.DataFrame([[20, 60]], columns=['Area of Distribution (0-60cm2) ', 'No of Particles (25-300)']) - train_stats['mean']) / train_stats['std']"
   ]
  },
  {
   "cell_type": "code",
   "execution_count": null,
   "metadata": {},
   "outputs": [],
   "source": []
  }
 ],
 "metadata": {
  "kernelspec": {
   "display_name": "c2c",
   "language": "python",
   "name": "c2c"
  },
  "language_info": {
   "codemirror_mode": {
    "name": "ipython",
    "version": 3
   },
   "file_extension": ".py",
   "mimetype": "text/x-python",
   "name": "python",
   "nbconvert_exporter": "python",
   "pygments_lexer": "ipython3",
   "version": "3.6.9"
  }
 },
 "nbformat": 4,
 "nbformat_minor": 4
}
